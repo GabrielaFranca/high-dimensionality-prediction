{
 "cells": [
  {
   "cell_type": "code",
   "execution_count": 4,
   "id": "873a4116-ccfa-4763-9cdb-e0ef3bdfb69d",
   "metadata": {},
   "outputs": [],
   "source": [
    "#Import the relevant libraries\n",
    "from sklearn import svm\n",
    "from sklearn.ensemble import RandomForestRegressor\n",
    "from sklearn import train_test_split\n",
    "import pandas as pd\n",
    "import numpy as np\n"
   ]
  },
  {
   "cell_type": "code",
   "execution_count": 5,
   "id": "a8fe8e6a-423f-4da8-9b7f-d060eb7586e5",
   "metadata": {},
   "outputs": [],
   "source": [
    "#Establish the variables that we are loading in\n",
    "\n",
    "#For x in list_ofStuff\n",
    "    #Trim out the thing\n",
    "    #Remove the thing\n"
   ]
  },
  {
   "cell_type": "code",
   "execution_count": 6,
   "id": "4fd878b0-5927-4ca4-8975-b454c15e30b1",
   "metadata": {},
   "outputs": [],
   "source": [
    "\n",
    "\n",
    "\n",
    "\n",
    "#This function splits the x data and y data \n",
    "xTrain, xTest, yTrain, yTest = train_test_split(x, y, test_size=0.5)"
   ]
  },
  {
   "cell_type": "code",
   "execution_count": null,
   "id": "4e1637ee-e1c3-4cbc-a9cc-979d6db8912f",
   "metadata": {},
   "outputs": [],
   "source": [
    "#Create the SVC\n",
    "supportVectorRegression = svm.SVR(kernel='linear')\n",
    "\n",
    "\n",
    "#Create the Random Forest\n",
    "randForest = RandomForestRegressor()\n"
   ]
  }
 ],
 "metadata": {
  "kernelspec": {
   "display_name": "Python 3 (ipykernel)",
   "language": "python",
   "name": "python3"
  },
  "language_info": {
   "codemirror_mode": {
    "name": "ipython",
    "version": 3
   },
   "file_extension": ".py",
   "mimetype": "text/x-python",
   "name": "python",
   "nbconvert_exporter": "python",
   "pygments_lexer": "ipython3",
   "version": "3.11.11"
  }
 },
 "nbformat": 4,
 "nbformat_minor": 5
}
