{
 "cells": [
  {
   "cell_type": "code",
   "execution_count": 1,
   "id": "586db5ca-f55c-4beb-a48a-552a411d4802",
   "metadata": {},
   "outputs": [],
   "source": [
    "from pathlib import Path\n",
    "from typing import List, Dict\n",
    "from collections import defaultdict\n",
    "from subprocess import run\n",
    "\n",
    "\n",
    "def find_subjects(base_path: Path, prefix: str = \"OAS2_\") -> List[Path]:\n",
    "    return sorted([\n",
    "        p for p in base_path.iterdir() if p.is_dir() and p.name.startswith(prefix)\n",
    "    ])\n",
    "\n",
    "\n",
    "def group_visits_by_subject(subject_dirs: List[Path]) -> Dict[str, List[Path]]:\n",
    "    grouped = defaultdict(list)\n",
    "    for path in subject_dirs:\n",
    "        parts = path.name.split('_')\n",
    "        if len(parts) >= 3:\n",
    "            subject_id = parts[1]\n",
    "            grouped[subject_id].append(path)\n",
    "    return grouped\n",
    "\n",
    "\n",
    "def get_qualified_subjects(subject_groups: Dict[str, List[Path]]) -> List[str]:\n",
    "    qualified = []\n",
    "    for subject_id, visits in subject_groups.items():\n",
    "        scan_types = {v.name.split('_')[-1] for v in visits}\n",
    "        if len(scan_types) >= 3 and {\"MR1\", \"MR3\"}.issubset(scan_types):\n",
    "            qualified.append(subject_id)\n",
    "    return sorted(qualified)\n",
    "\n",
    "\n",
    "def run_fastsurfer_segmentation(setup_dir, image, subject_id, output_dir):\n",
    "    setup_dir = Path(setup_dir)\n",
    "    output_dir = Path(output_dir)\n",
    "\n",
    "    command = f\"\"\"\n",
    "{setup_dir}/run_fastsurfer.sh \\\n",
    "--t1 {image} \\\n",
    "--sd {output_dir} \\\n",
    "--sid {subject_id} \\\n",
    "--seg_only \\\n",
    "--py python3 \\\n",
    "--no_biasfield \\\n",
    "--no_cereb \\\n",
    "--no_hypothal \\\n",
    "--allow_root\n",
    "\"\"\"\n",
    "    print(f\"Running FastSurfer for subject: {subject_id}\")\n",
    "    run(command, shell=True, check=True)\n",
    "\n",
    "\n",
    "def process_subject_range(\n",
    "    setup_dir: str,\n",
    "    output_dir: str,\n",
    "    data_dir: str,\n",
    "    start: int,\n",
    "    end: int\n",
    "):\n",
    "    data_dir = Path(data_dir)\n",
    "    setup_dir = Path(setup_dir)\n",
    "    output_dir = Path(output_dir)\n",
    "\n",
    "    subject_visit_dirs = find_subjects(data_dir)\n",
    "    subject_groups = group_visits_by_subject(subject_visit_dirs)\n",
    "    qualified_subjects = get_qualified_subjects(subject_groups)\n",
    "\n",
    "    # Print full list of qualified subjects with indices\n",
    "    print(\"\\n=== Qualified Subjects (with MR1 and MR3, at least 3 scans total) ===\")\n",
    "    for idx, sid in enumerate(qualified_subjects):\n",
    "        print(f\"[{idx}] OAS2_{sid}\")\n",
    "    print(\"=====================================================================\")\n",
    "\n",
    "    # Clamp range\n",
    "    end = min(end, len(qualified_subjects))\n",
    "    assigned_subjects = qualified_subjects[start:end]\n",
    "\n",
    "    print(f\"\\n>>> Processing subjects {start} to {end - 1}:\")\n",
    "    for idx, sid in enumerate(assigned_subjects, start=start):\n",
    "        print(f\"  - [{idx}] OAS2_{sid}\")\n",
    "\n",
    "    for subject_id in assigned_subjects:\n",
    "        visits = subject_groups[subject_id]\n",
    "        for visit in visits:\n",
    "            if visit.name.endswith(\"MR1\") or visit.name.endswith(\"MR3\"):\n",
    "                t1_image_path = visit / \"RAW/mpr-1.nifti.img\"\n",
    "                if not t1_image_path.exists():\n",
    "                    print(f\"Missing T1 image for {visit.name}\")\n",
    "                    continue\n",
    "                run_fastsurfer_segmentation(setup_dir, t1_image_path, visit.name, output_dir)\n"
   ]
  },
  {
   "cell_type": "code",
   "execution_count": 2,
   "id": "e80b4878-8d16-4459-b43c-d0a5b5dc6a4c",
   "metadata": {},
   "outputs": [
    {
     "name": "stdout",
     "output_type": "stream",
     "text": [
      "Requirement already satisfied: yacs in /srv/conda/envs/notebook/lib/python3.11/site-packages (0.1.8)\n",
      "Requirement already satisfied: PyYAML in /srv/conda/envs/notebook/lib/python3.11/site-packages (from yacs) (6.0.2)\n",
      "Note: you may need to restart the kernel to use updated packages.\n"
     ]
    }
   ],
   "source": [
    "pip install yacs"
   ]
  },
  {
   "cell_type": "code",
   "execution_count": 3,
   "id": "30a6217d-2776-488c-a7eb-12308dbc2842",
   "metadata": {
    "editable": true,
    "scrolled": true,
    "slideshow": {
     "slide_type": ""
    },
    "tags": []
   },
   "outputs": [
    {
     "name": "stdout",
     "output_type": "stream",
     "text": [
      "\n",
      "=== Qualified Subjects (with MR1 and MR3, at least 3 scans total) ===\n",
      "[0] OAS2_0002\n",
      "[1] OAS2_0005\n",
      "[2] OAS2_0007\n",
      "[3] OAS2_0012\n",
      "[4] OAS2_0013\n",
      "[5] OAS2_0017\n",
      "[6] OAS2_0018\n",
      "[7] OAS2_0020\n",
      "[8] OAS2_0027\n",
      "[9] OAS2_0031\n",
      "[10] OAS2_0034\n",
      "[11] OAS2_0036\n",
      "[12] OAS2_0037\n",
      "[13] OAS2_0040\n",
      "[14] OAS2_0041\n",
      "[15] OAS2_0044\n",
      "[16] OAS2_0048\n",
      "[17] OAS2_0049\n",
      "[18] OAS2_0051\n",
      "[19] OAS2_0057\n",
      "[20] OAS2_0058\n",
      "[21] OAS2_0061\n",
      "[22] OAS2_0062\n",
      "[23] OAS2_0064\n",
      "[24] OAS2_0067\n",
      "[25] OAS2_0070\n",
      "[26] OAS2_0073\n",
      "[27] OAS2_0076\n",
      "[28] OAS2_0078\n",
      "[29] OAS2_0079\n",
      "[30] OAS2_0080\n",
      "[31] OAS2_0090\n",
      "[32] OAS2_0095\n",
      "=====================================================================\n",
      "\n",
      ">>> Processing subjects 9 to 12:\n",
      "  - [9] OAS2_0031\n",
      "  - [10] OAS2_0034\n",
      "  - [11] OAS2_0036\n",
      "  - [12] OAS2_0037\n",
      "Running FastSurfer for subject: OAS2_0031_MR1\n",
      "Setting ENV variable FASTSURFER_HOME to script directory /home/jovyan/FastSurfer. \n",
      "Change via environment to location of your choice if this is undesired (export FASTSURFER_HOME=/dir/to/FastSurfer)\n",
      "time command failing, not using time...\n",
      "=========================================================\n",
      "Start of the log for a new run_fastsurfer.sh invocation\n",
      "=========================================================\n",
      "Version: 2.4.2+7e53343\n",
      "Tue Aug  5 07:32:21 PM UTC 2025\n",
      "\n",
      "Log file for FastSurfer pipeline, run_fastsurfer.sh and segmentation(s)\n",
      "python3 /home/jovyan/FastSurfer/FastSurferCNN/run_prediction.py --t1 /home/jovyan/shared/data/OASIS-2/OAS2_RAW_PART1/OAS2_0031_MR1/RAW/mpr-1.nifti.img --asegdkt_segfile /home/jovyan/fastsurfer_outputs/OAS2_0031_MR1/mri/aparc.DKTatlas+aseg.deep.mgz --conformed_name /home/jovyan/fastsurfer_outputs/OAS2_0031_MR1/mri/orig.mgz --brainmask_name /home/jovyan/fastsurfer_outputs/OAS2_0031_MR1/mri/mask.mgz --aseg_name /home/jovyan/fastsurfer_outputs/OAS2_0031_MR1/mri/aseg.auto_noCCseg.mgz --sid OAS2_0031_MR1 --seg_log /home/jovyan/fastsurfer_outputs/OAS2_0031_MR1/scripts/deep-seg.log --vox_size min --batch_size 1 --viewagg_device auto --device auto --threads 1 --sd /home/jovyan/fastsurfer_outputs\n",
      "[INFO: run_prediction.py:  647]: Checking or downloading default checkpoints ...\n",
      "[INFO: common.py:  820]: Single subject with absolute file path for input.\n",
      "[INFO: common.py:  878]: Analyzing single subject /home/jovyan/shared/data/OASIS-2/OAS2_RAW_PART1/OAS2_0031_MR1/RAW/mpr-1.nifti.img\n",
      "[INFO: common.py:  979]: Output will be stored in Subjects Directory: /home/jovyan/fastsurfer_outputs\n",
      "[INFO: common.py:  106]: Using device: cpu\n",
      "[INFO: run_prediction.py:  245]: Running view aggregation on cpu\n",
      "[INFO: inference.py:  200]: Loading checkpoint /home/jovyan/FastSurfer/checkpoints/aparc_vinn_coronal_v2.0.0.pkl\n",
      "[INFO: inference.py:  200]: Loading checkpoint /home/jovyan/FastSurfer/checkpoints/aparc_vinn_sagittal_v2.0.0.pkl\n",
      "[INFO: inference.py:  200]: Loading checkpoint /home/jovyan/FastSurfer/checkpoints/aparc_vinn_axial_v2.0.0.pkl\n",
      "[INFO: run_prediction.py:  324]: Successfully loaded image from /home/jovyan/shared/data/OASIS-2/OAS2_RAW_PART1/OAS2_0031_MR1/RAW/mpr-1.nifti.img.\n",
      "[INFO: run_prediction.py:  441]: Output image directory /home/jovyan/fastsurfer_outputs/OAS2_0031_MR1/mri/orig does not exist. Creating it now...\n",
      "[INFO: conform.py:  823]: The input image is not conformed.\n",
      "[INFO: conform.py:  826]: A min-conformedconformed image must satisfy the following criteria:\n",
      "[INFO: conform.py:  828]:  - Number of Dimensions 3        : BUT image ndim 4\n",
      "[INFO: conform.py:  828]:  - Dimensions 256x256x256        : BUT image dimensions (256, 256, 128, 1)\n",
      "[INFO: conform.py:  828]:  - Voxel Size 1.0x1.0x1.0        : BUT image 1.0x1.0x1.25x0.0\n",
      "[INFO: conform.py:  828]:  - Orientation LIA               : BUT strict: [[ 0. 0. -1.25] [ 1. 0. 0. ] [ 0. 1. 0. ]]\n",
      "[INFO: conform.py:  828]:  - Dtype uint8                   : BUT dtype >f4\n",
      "[INFO: run_prediction.py:  337]: Conforming image\n",
      "Input:    min: 0.0  max: 4095.0\n",
      "rescale:  min: 0.0  max: 2886.97509765625  scale: 0.08832774491439782\n",
      "Output:   min: 0.0  max: 255.0\n",
      "[INFO: run_prediction.py:  454]: Successfully saved image   as /home/jovyan/fastsurfer_outputs/OAS2_0031_MR1/mri/orig.mgz.\n",
      "[INFO: run_prediction.py:  400]: Run coronal prediction\n",
      "[INFO: dataset.py:   78]: Loading Coronal with input voxelsize (1.0, 1.0)\n"
     ]
    },
    {
     "name": "stderr",
     "output_type": "stream",
     "text": [
      "100%|██████████| 256/256 [06:31<00:00,  1.53s/batch]\n",
      "  0%|          | 0/256 [00:00<?, ?batch/s]"
     ]
    },
    {
     "name": "stdout",
     "output_type": "stream",
     "text": [
      "[INFO: inference.py:  408]: Inference on 256 batches for coronal successful\n",
      "[INFO: inference.py:  469]: Coronal inference on /home/jovyan/shared/data/OASIS-2/OAS2_RAW_PART1/OAS2_0031_MR1/RAW/mpr-1.nifti.img finished in 391.8765 seconds\n",
      "[INFO: run_prediction.py:  400]: Run sagittal prediction\n",
      "[INFO: dataset.py:   69]: Loading Sagittal with input voxelsize (1.0, 1.0)\n"
     ]
    },
    {
     "name": "stderr",
     "output_type": "stream",
     "text": [
      "100%|██████████| 256/256 [06:45<00:00,  1.59s/batch]\n",
      "  0%|          | 0/256 [00:00<?, ?batch/s]"
     ]
    },
    {
     "name": "stdout",
     "output_type": "stream",
     "text": [
      "[INFO: inference.py:  408]: Inference on 256 batches for sagittal successful\n",
      "[INFO: inference.py:  469]: Sagittal inference on /home/jovyan/shared/data/OASIS-2/OAS2_RAW_PART1/OAS2_0031_MR1/RAW/mpr-1.nifti.img finished in 406.0017 seconds\n",
      "[INFO: run_prediction.py:  400]: Run axial prediction\n",
      "[INFO: dataset.py:   74]: Loading Axial with input voxelsize (1.0, 1.0)\n"
     ]
    },
    {
     "name": "stderr",
     "output_type": "stream",
     "text": [
      "100%|██████████| 256/256 [06:22<00:00,  1.49s/batch]\n"
     ]
    },
    {
     "name": "stdout",
     "output_type": "stream",
     "text": [
      "[INFO: inference.py:  408]: Inference on 256 batches for axial successful\n",
      "[INFO: inference.py:  469]: Axial inference on /home/jovyan/shared/data/OASIS-2/OAS2_RAW_PART1/OAS2_0031_MR1/RAW/mpr-1.nifti.img finished in 382.2294 seconds\n",
      "[INFO: run_prediction.py:  454]: Successfully saved image   as /home/jovyan/fastsurfer_outputs/OAS2_0031_MR1/mri/aparc.DKTatlas+aseg.deep.mgz.\n",
      "[INFO: run_prediction.py:  724]: Creating brainmask based on segmentation...\n",
      "Creating dilated mask ...\n",
      "Frontal region special treatment:  19056\n",
      "  Found 1 connected component(s)!\n",
      "[INFO: run_prediction.py:  454]: Successfully saved image   as /home/jovyan/fastsurfer_outputs/OAS2_0031_MR1/mri/mask.mgz.\n",
      "[INFO: run_prediction.py:  743]: Creating aseg based on segmentation...\n",
      "Reducing to aseg ...\n",
      "FlipWM: rh 0 and lh 0 flipped.\n",
      "[INFO: run_prediction.py:  454]: Successfully saved image   as /home/jovyan/fastsurfer_outputs/OAS2_0031_MR1/mri/aseg.auto_noCCseg.mgz.\n",
      "[INFO: run_prediction.py:  762]: Running volume-based QC check on segmentation...\n",
      "Checking total volume ...\n",
      "Voxel size in mm3: 1.0\n",
      "Total segmentation volume in liter: 1.01\n",
      "Running FastSurfer for subject: OAS2_0031_MR3\n",
      "Setting ENV variable FASTSURFER_HOME to script directory /home/jovyan/FastSurfer. \n",
      "Change via environment to location of your choice if this is undesired (export FASTSURFER_HOME=/dir/to/FastSurfer)\n",
      "time command failing, not using time...\n",
      "=========================================================\n",
      "Start of the log for a new run_fastsurfer.sh invocation\n",
      "=========================================================\n",
      "Version: 2.4.2+7e53343\n",
      "Tue Aug  5 07:52:29 PM UTC 2025\n",
      "\n",
      "Log file for FastSurfer pipeline, run_fastsurfer.sh and segmentation(s)\n",
      "python3 /home/jovyan/FastSurfer/FastSurferCNN/run_prediction.py --t1 /home/jovyan/shared/data/OASIS-2/OAS2_RAW_PART1/OAS2_0031_MR3/RAW/mpr-1.nifti.img --asegdkt_segfile /home/jovyan/fastsurfer_outputs/OAS2_0031_MR3/mri/aparc.DKTatlas+aseg.deep.mgz --conformed_name /home/jovyan/fastsurfer_outputs/OAS2_0031_MR3/mri/orig.mgz --brainmask_name /home/jovyan/fastsurfer_outputs/OAS2_0031_MR3/mri/mask.mgz --aseg_name /home/jovyan/fastsurfer_outputs/OAS2_0031_MR3/mri/aseg.auto_noCCseg.mgz --sid OAS2_0031_MR3 --seg_log /home/jovyan/fastsurfer_outputs/OAS2_0031_MR3/scripts/deep-seg.log --vox_size min --batch_size 1 --viewagg_device auto --device auto --threads 1 --sd /home/jovyan/fastsurfer_outputs\n",
      "[INFO: run_prediction.py:  647]: Checking or downloading default checkpoints ...\n",
      "[INFO: common.py:  820]: Single subject with absolute file path for input.\n",
      "[INFO: common.py:  878]: Analyzing single subject /home/jovyan/shared/data/OASIS-2/OAS2_RAW_PART1/OAS2_0031_MR3/RAW/mpr-1.nifti.img\n",
      "[INFO: common.py:  979]: Output will be stored in Subjects Directory: /home/jovyan/fastsurfer_outputs\n",
      "[INFO: common.py:  106]: Using device: cpu\n",
      "[INFO: run_prediction.py:  245]: Running view aggregation on cpu\n",
      "[INFO: inference.py:  200]: Loading checkpoint /home/jovyan/FastSurfer/checkpoints/aparc_vinn_coronal_v2.0.0.pkl\n",
      "[INFO: inference.py:  200]: Loading checkpoint /home/jovyan/FastSurfer/checkpoints/aparc_vinn_sagittal_v2.0.0.pkl\n",
      "[INFO: inference.py:  200]: Loading checkpoint /home/jovyan/FastSurfer/checkpoints/aparc_vinn_axial_v2.0.0.pkl\n",
      "[INFO: run_prediction.py:  324]: Successfully loaded image from /home/jovyan/shared/data/OASIS-2/OAS2_RAW_PART1/OAS2_0031_MR3/RAW/mpr-1.nifti.img.\n",
      "[INFO: run_prediction.py:  441]: Output image directory /home/jovyan/fastsurfer_outputs/OAS2_0031_MR3/mri/orig does not exist. Creating it now...\n",
      "[INFO: conform.py:  823]: The input image is not conformed.\n",
      "[INFO: conform.py:  826]: A min-conformedconformed image must satisfy the following criteria:\n",
      "[INFO: conform.py:  828]:  - Number of Dimensions 3        : BUT image ndim 4\n",
      "[INFO: conform.py:  828]:  - Dimensions 256x256x256        : BUT image dimensions (256, 256, 128, 1)\n",
      "[INFO: conform.py:  828]:  - Voxel Size 1.0x1.0x1.0        : BUT image 1.0x1.0x1.25x0.0\n",
      "[INFO: conform.py:  828]:  - Orientation LIA               : BUT strict: [[ 0. 0. -1.25] [ 1. 0. 0. ] [ 0. 1. 0. ]]\n",
      "[INFO: conform.py:  828]:  - Dtype uint8                   : BUT dtype >f4\n",
      "[INFO: run_prediction.py:  337]: Conforming image\n",
      "Input:    min: 0.0  max: 4095.0\n",
      "rescale:  min: 0.0  max: 2702.699951171875  scale: 0.09435009605466321\n",
      "Output:   min: 0.0  max: 255.0\n",
      "[INFO: run_prediction.py:  454]: Successfully saved image   as /home/jovyan/fastsurfer_outputs/OAS2_0031_MR3/mri/orig.mgz.\n",
      "[INFO: run_prediction.py:  400]: Run coronal prediction\n",
      "[INFO: dataset.py:   78]: Loading Coronal with input voxelsize (1.0, 1.0)\n"
     ]
    },
    {
     "name": "stderr",
     "output_type": "stream",
     "text": [
      "100%|██████████| 256/256 [06:33<00:00,  1.54s/batch]\n",
      "  0%|          | 0/256 [00:00<?, ?batch/s]"
     ]
    },
    {
     "name": "stdout",
     "output_type": "stream",
     "text": [
      "[INFO: inference.py:  408]: Inference on 256 batches for coronal successful\n",
      "[INFO: inference.py:  469]: Coronal inference on /home/jovyan/shared/data/OASIS-2/OAS2_RAW_PART1/OAS2_0031_MR3/RAW/mpr-1.nifti.img finished in 393.9774 seconds\n",
      "[INFO: run_prediction.py:  400]: Run sagittal prediction\n",
      "[INFO: dataset.py:   69]: Loading Sagittal with input voxelsize (1.0, 1.0)\n"
     ]
    },
    {
     "name": "stderr",
     "output_type": "stream",
     "text": [
      "100%|██████████| 256/256 [06:43<00:00,  1.58s/batch]\n",
      "  0%|          | 0/256 [00:00<?, ?batch/s]"
     ]
    },
    {
     "name": "stdout",
     "output_type": "stream",
     "text": [
      "[INFO: inference.py:  408]: Inference on 256 batches for sagittal successful\n",
      "[INFO: inference.py:  469]: Sagittal inference on /home/jovyan/shared/data/OASIS-2/OAS2_RAW_PART1/OAS2_0031_MR3/RAW/mpr-1.nifti.img finished in 403.6964 seconds\n",
      "[INFO: run_prediction.py:  400]: Run axial prediction\n",
      "[INFO: dataset.py:   74]: Loading Axial with input voxelsize (1.0, 1.0)\n"
     ]
    },
    {
     "name": "stderr",
     "output_type": "stream",
     "text": [
      "100%|██████████| 256/256 [06:43<00:00,  1.57s/batch]\n"
     ]
    },
    {
     "name": "stdout",
     "output_type": "stream",
     "text": [
      "[INFO: inference.py:  408]: Inference on 256 batches for axial successful\n",
      "[INFO: inference.py:  469]: Axial inference on /home/jovyan/shared/data/OASIS-2/OAS2_RAW_PART1/OAS2_0031_MR3/RAW/mpr-1.nifti.img finished in 403.1074 seconds\n",
      "[INFO: run_prediction.py:  454]: Successfully saved image   as /home/jovyan/fastsurfer_outputs/OAS2_0031_MR3/mri/aparc.DKTatlas+aseg.deep.mgz.\n",
      "[INFO: run_prediction.py:  724]: Creating brainmask based on segmentation...\n",
      "Creating dilated mask ...\n",
      "Frontal region special treatment:  18529\n",
      "  Found 1 connected component(s)!\n",
      "[INFO: run_prediction.py:  454]: Successfully saved image   as /home/jovyan/fastsurfer_outputs/OAS2_0031_MR3/mri/mask.mgz.\n",
      "[INFO: run_prediction.py:  743]: Creating aseg based on segmentation...\n",
      "Reducing to aseg ...\n",
      "FlipWM: rh 0 and lh 0 flipped.\n",
      "[INFO: run_prediction.py:  454]: Successfully saved image   as /home/jovyan/fastsurfer_outputs/OAS2_0031_MR3/mri/aseg.auto_noCCseg.mgz.\n",
      "[INFO: run_prediction.py:  762]: Running volume-based QC check on segmentation...\n",
      "Checking total volume ...\n",
      "Voxel size in mm3: 1.0\n",
      "Total segmentation volume in liter: 1.0\n",
      "Running FastSurfer for subject: OAS2_0034_MR1\n",
      "Setting ENV variable FASTSURFER_HOME to script directory /home/jovyan/FastSurfer. \n",
      "Change via environment to location of your choice if this is undesired (export FASTSURFER_HOME=/dir/to/FastSurfer)\n",
      "time command failing, not using time...\n",
      "=========================================================\n",
      "Start of the log for a new run_fastsurfer.sh invocation\n",
      "=========================================================\n",
      "Version: 2.4.2+7e53343\n",
      "Tue Aug  5 08:12:59 PM UTC 2025\n",
      "\n",
      "Log file for FastSurfer pipeline, run_fastsurfer.sh and segmentation(s)\n",
      "python3 /home/jovyan/FastSurfer/FastSurferCNN/run_prediction.py --t1 /home/jovyan/shared/data/OASIS-2/OAS2_RAW_PART1/OAS2_0034_MR1/RAW/mpr-1.nifti.img --asegdkt_segfile /home/jovyan/fastsurfer_outputs/OAS2_0034_MR1/mri/aparc.DKTatlas+aseg.deep.mgz --conformed_name /home/jovyan/fastsurfer_outputs/OAS2_0034_MR1/mri/orig.mgz --brainmask_name /home/jovyan/fastsurfer_outputs/OAS2_0034_MR1/mri/mask.mgz --aseg_name /home/jovyan/fastsurfer_outputs/OAS2_0034_MR1/mri/aseg.auto_noCCseg.mgz --sid OAS2_0034_MR1 --seg_log /home/jovyan/fastsurfer_outputs/OAS2_0034_MR1/scripts/deep-seg.log --vox_size min --batch_size 1 --viewagg_device auto --device auto --threads 1 --sd /home/jovyan/fastsurfer_outputs\n",
      "[INFO: run_prediction.py:  647]: Checking or downloading default checkpoints ...\n",
      "[INFO: common.py:  820]: Single subject with absolute file path for input.\n",
      "[INFO: common.py:  878]: Analyzing single subject /home/jovyan/shared/data/OASIS-2/OAS2_RAW_PART1/OAS2_0034_MR1/RAW/mpr-1.nifti.img\n",
      "[INFO: common.py:  979]: Output will be stored in Subjects Directory: /home/jovyan/fastsurfer_outputs\n",
      "[INFO: common.py:  106]: Using device: cpu\n",
      "[INFO: run_prediction.py:  245]: Running view aggregation on cpu\n",
      "[INFO: inference.py:  200]: Loading checkpoint /home/jovyan/FastSurfer/checkpoints/aparc_vinn_coronal_v2.0.0.pkl\n",
      "[INFO: inference.py:  200]: Loading checkpoint /home/jovyan/FastSurfer/checkpoints/aparc_vinn_sagittal_v2.0.0.pkl\n",
      "[INFO: inference.py:  200]: Loading checkpoint /home/jovyan/FastSurfer/checkpoints/aparc_vinn_axial_v2.0.0.pkl\n",
      "[INFO: run_prediction.py:  324]: Successfully loaded image from /home/jovyan/shared/data/OASIS-2/OAS2_RAW_PART1/OAS2_0034_MR1/RAW/mpr-1.nifti.img.\n",
      "[INFO: run_prediction.py:  441]: Output image directory /home/jovyan/fastsurfer_outputs/OAS2_0034_MR1/mri/orig does not exist. Creating it now...\n",
      "[INFO: conform.py:  823]: The input image is not conformed.\n",
      "[INFO: conform.py:  826]: A min-conformedconformed image must satisfy the following criteria:\n",
      "[INFO: conform.py:  828]:  - Number of Dimensions 3        : BUT image ndim 4\n",
      "[INFO: conform.py:  828]:  - Dimensions 256x256x256        : BUT image dimensions (256, 256, 128, 1)\n",
      "[INFO: conform.py:  828]:  - Voxel Size 1.0x1.0x1.0        : BUT image 1.0x1.0x1.25x0.0\n",
      "[INFO: conform.py:  828]:  - Orientation LIA               : BUT strict: [[ 0. 0. -1.25] [ 1. 0. 0. ] [ 0. 1. 0. ]]\n",
      "[INFO: conform.py:  828]:  - Dtype uint8                   : BUT dtype >f4\n",
      "[INFO: run_prediction.py:  337]: Conforming image\n",
      "Input:    min: 0.0  max: 4095.0\n",
      "rescale:  min: 0.0  max: 3439.800048828125  scale: 0.07413221593704951\n",
      "Output:   min: 0.0  max: 255.0\n",
      "[INFO: run_prediction.py:  454]: Successfully saved image   as /home/jovyan/fastsurfer_outputs/OAS2_0034_MR1/mri/orig.mgz.\n",
      "[INFO: run_prediction.py:  400]: Run coronal prediction\n",
      "[INFO: dataset.py:   78]: Loading Coronal with input voxelsize (1.0, 1.0)\n"
     ]
    },
    {
     "name": "stderr",
     "output_type": "stream",
     "text": [
      "100%|██████████| 256/256 [06:33<00:00,  1.54s/batch]\n",
      "  0%|          | 0/256 [00:00<?, ?batch/s]"
     ]
    },
    {
     "name": "stdout",
     "output_type": "stream",
     "text": [
      "[INFO: inference.py:  408]: Inference on 256 batches for coronal successful\n",
      "[INFO: inference.py:  469]: Coronal inference on /home/jovyan/shared/data/OASIS-2/OAS2_RAW_PART1/OAS2_0034_MR1/RAW/mpr-1.nifti.img finished in 393.7865 seconds\n",
      "[INFO: run_prediction.py:  400]: Run sagittal prediction\n",
      "[INFO: dataset.py:   69]: Loading Sagittal with input voxelsize (1.0, 1.0)\n"
     ]
    },
    {
     "name": "stderr",
     "output_type": "stream",
     "text": [
      "100%|██████████| 256/256 [06:38<00:00,  1.56s/batch]\n",
      "  0%|          | 0/256 [00:00<?, ?batch/s]"
     ]
    },
    {
     "name": "stdout",
     "output_type": "stream",
     "text": [
      "[INFO: inference.py:  408]: Inference on 256 batches for sagittal successful\n",
      "[INFO: inference.py:  469]: Sagittal inference on /home/jovyan/shared/data/OASIS-2/OAS2_RAW_PART1/OAS2_0034_MR1/RAW/mpr-1.nifti.img finished in 398.2371 seconds\n",
      "[INFO: run_prediction.py:  400]: Run axial prediction\n",
      "[INFO: dataset.py:   74]: Loading Axial with input voxelsize (1.0, 1.0)\n"
     ]
    },
    {
     "name": "stderr",
     "output_type": "stream",
     "text": [
      "100%|██████████| 256/256 [06:32<00:00,  1.53s/batch]\n"
     ]
    },
    {
     "name": "stdout",
     "output_type": "stream",
     "text": [
      "[INFO: inference.py:  408]: Inference on 256 batches for axial successful\n",
      "[INFO: inference.py:  469]: Axial inference on /home/jovyan/shared/data/OASIS-2/OAS2_RAW_PART1/OAS2_0034_MR1/RAW/mpr-1.nifti.img finished in 392.5299 seconds\n",
      "[INFO: run_prediction.py:  454]: Successfully saved image   as /home/jovyan/fastsurfer_outputs/OAS2_0034_MR1/mri/aparc.DKTatlas+aseg.deep.mgz.\n",
      "[INFO: run_prediction.py:  724]: Creating brainmask based on segmentation...\n",
      "Creating dilated mask ...\n",
      "Frontal region special treatment:  19238\n",
      "  Found 1 connected component(s)!\n",
      "[INFO: run_prediction.py:  454]: Successfully saved image   as /home/jovyan/fastsurfer_outputs/OAS2_0034_MR1/mri/mask.mgz.\n",
      "[INFO: run_prediction.py:  743]: Creating aseg based on segmentation...\n",
      "Reducing to aseg ...\n",
      "FlipWM: rh 0 and lh 0 flipped.\n",
      "[INFO: run_prediction.py:  454]: Successfully saved image   as /home/jovyan/fastsurfer_outputs/OAS2_0034_MR1/mri/aseg.auto_noCCseg.mgz.\n",
      "[INFO: run_prediction.py:  762]: Running volume-based QC check on segmentation...\n",
      "Checking total volume ...\n",
      "Voxel size in mm3: 1.0\n",
      "Total segmentation volume in liter: 1.0\n",
      "Running FastSurfer for subject: OAS2_0034_MR3\n",
      "Setting ENV variable FASTSURFER_HOME to script directory /home/jovyan/FastSurfer. \n",
      "Change via environment to location of your choice if this is undesired (export FASTSURFER_HOME=/dir/to/FastSurfer)\n",
      "time command failing, not using time...\n",
      "=========================================================\n",
      "Start of the log for a new run_fastsurfer.sh invocation\n",
      "=========================================================\n",
      "Version: 2.4.2+7e53343\n",
      "Tue Aug  5 08:33:13 PM UTC 2025\n",
      "\n",
      "Log file for FastSurfer pipeline, run_fastsurfer.sh and segmentation(s)\n",
      "python3 /home/jovyan/FastSurfer/FastSurferCNN/run_prediction.py --t1 /home/jovyan/shared/data/OASIS-2/OAS2_RAW_PART1/OAS2_0034_MR3/RAW/mpr-1.nifti.img --asegdkt_segfile /home/jovyan/fastsurfer_outputs/OAS2_0034_MR3/mri/aparc.DKTatlas+aseg.deep.mgz --conformed_name /home/jovyan/fastsurfer_outputs/OAS2_0034_MR3/mri/orig.mgz --brainmask_name /home/jovyan/fastsurfer_outputs/OAS2_0034_MR3/mri/mask.mgz --aseg_name /home/jovyan/fastsurfer_outputs/OAS2_0034_MR3/mri/aseg.auto_noCCseg.mgz --sid OAS2_0034_MR3 --seg_log /home/jovyan/fastsurfer_outputs/OAS2_0034_MR3/scripts/deep-seg.log --vox_size min --batch_size 1 --viewagg_device auto --device auto --threads 1 --sd /home/jovyan/fastsurfer_outputs\n",
      "[INFO: run_prediction.py:  647]: Checking or downloading default checkpoints ...\n",
      "[INFO: common.py:  820]: Single subject with absolute file path for input.\n",
      "[INFO: common.py:  878]: Analyzing single subject /home/jovyan/shared/data/OASIS-2/OAS2_RAW_PART1/OAS2_0034_MR3/RAW/mpr-1.nifti.img\n",
      "[INFO: common.py:  979]: Output will be stored in Subjects Directory: /home/jovyan/fastsurfer_outputs\n",
      "[INFO: common.py:  106]: Using device: cpu\n",
      "[INFO: run_prediction.py:  245]: Running view aggregation on cpu\n",
      "[INFO: inference.py:  200]: Loading checkpoint /home/jovyan/FastSurfer/checkpoints/aparc_vinn_coronal_v2.0.0.pkl\n",
      "[INFO: inference.py:  200]: Loading checkpoint /home/jovyan/FastSurfer/checkpoints/aparc_vinn_sagittal_v2.0.0.pkl\n",
      "[INFO: inference.py:  200]: Loading checkpoint /home/jovyan/FastSurfer/checkpoints/aparc_vinn_axial_v2.0.0.pkl\n",
      "[INFO: run_prediction.py:  324]: Successfully loaded image from /home/jovyan/shared/data/OASIS-2/OAS2_RAW_PART1/OAS2_0034_MR3/RAW/mpr-1.nifti.img.\n",
      "[INFO: run_prediction.py:  441]: Output image directory /home/jovyan/fastsurfer_outputs/OAS2_0034_MR3/mri/orig does not exist. Creating it now...\n",
      "[INFO: conform.py:  823]: The input image is not conformed.\n",
      "[INFO: conform.py:  826]: A min-conformedconformed image must satisfy the following criteria:\n",
      "[INFO: conform.py:  828]:  - Number of Dimensions 3        : BUT image ndim 4\n",
      "[INFO: conform.py:  828]:  - Dimensions 256x256x256        : BUT image dimensions (256, 256, 128, 1)\n",
      "[INFO: conform.py:  828]:  - Voxel Size 1.0x1.0x1.0        : BUT image 1.0x1.0x1.25x0.0\n",
      "[INFO: conform.py:  828]:  - Orientation LIA               : BUT strict: [[ 0. 0. -1.25] [ 1. 0. 0. ] [ 0. 1. 0. ]]\n",
      "[INFO: conform.py:  828]:  - Dtype uint8                   : BUT dtype >f4\n",
      "[INFO: run_prediction.py:  337]: Conforming image\n",
      "Input:    min: 0.0  max: 4095.0\n",
      "rescale:  min: 0.0  max: 3619.97998046875  scale: 0.07044237851475083\n",
      "Output:   min: 0.0  max: 255.0\n",
      "[INFO: run_prediction.py:  454]: Successfully saved image   as /home/jovyan/fastsurfer_outputs/OAS2_0034_MR3/mri/orig.mgz.\n",
      "[INFO: run_prediction.py:  400]: Run coronal prediction\n",
      "[INFO: dataset.py:   78]: Loading Coronal with input voxelsize (1.0, 1.0)\n"
     ]
    },
    {
     "name": "stderr",
     "output_type": "stream",
     "text": [
      "100%|██████████| 256/256 [06:34<00:00,  1.54s/batch]\n",
      "  0%|          | 0/256 [00:00<?, ?batch/s]"
     ]
    },
    {
     "name": "stdout",
     "output_type": "stream",
     "text": [
      "[INFO: inference.py:  408]: Inference on 256 batches for coronal successful\n",
      "[INFO: inference.py:  469]: Coronal inference on /home/jovyan/shared/data/OASIS-2/OAS2_RAW_PART1/OAS2_0034_MR3/RAW/mpr-1.nifti.img finished in 394.8774 seconds\n",
      "[INFO: run_prediction.py:  400]: Run sagittal prediction\n",
      "[INFO: dataset.py:   69]: Loading Sagittal with input voxelsize (1.0, 1.0)\n"
     ]
    },
    {
     "name": "stderr",
     "output_type": "stream",
     "text": [
      "100%|██████████| 256/256 [06:34<00:00,  1.54s/batch]\n",
      "  0%|          | 0/256 [00:00<?, ?batch/s]"
     ]
    },
    {
     "name": "stdout",
     "output_type": "stream",
     "text": [
      "[INFO: inference.py:  408]: Inference on 256 batches for sagittal successful\n",
      "[INFO: inference.py:  469]: Sagittal inference on /home/jovyan/shared/data/OASIS-2/OAS2_RAW_PART1/OAS2_0034_MR3/RAW/mpr-1.nifti.img finished in 394.1512 seconds\n",
      "[INFO: run_prediction.py:  400]: Run axial prediction\n",
      "[INFO: dataset.py:   74]: Loading Axial with input voxelsize (1.0, 1.0)\n"
     ]
    },
    {
     "name": "stderr",
     "output_type": "stream",
     "text": [
      "100%|██████████| 256/256 [06:29<00:00,  1.52s/batch]\n"
     ]
    },
    {
     "name": "stdout",
     "output_type": "stream",
     "text": [
      "[INFO: inference.py:  408]: Inference on 256 batches for axial successful\n",
      "[INFO: inference.py:  469]: Axial inference on /home/jovyan/shared/data/OASIS-2/OAS2_RAW_PART1/OAS2_0034_MR3/RAW/mpr-1.nifti.img finished in 389.7080 seconds\n",
      "[INFO: run_prediction.py:  454]: Successfully saved image   as /home/jovyan/fastsurfer_outputs/OAS2_0034_MR3/mri/aparc.DKTatlas+aseg.deep.mgz.\n",
      "[INFO: run_prediction.py:  724]: Creating brainmask based on segmentation...\n",
      "Creating dilated mask ...\n",
      "Frontal region special treatment:  17589\n",
      "  Found 1 connected component(s)!\n",
      "[INFO: run_prediction.py:  454]: Successfully saved image   as /home/jovyan/fastsurfer_outputs/OAS2_0034_MR3/mri/mask.mgz.\n",
      "[INFO: run_prediction.py:  743]: Creating aseg based on segmentation...\n",
      "Reducing to aseg ...\n",
      "FlipWM: rh 0 and lh 0 flipped.\n",
      "[INFO: run_prediction.py:  454]: Successfully saved image   as /home/jovyan/fastsurfer_outputs/OAS2_0034_MR3/mri/aseg.auto_noCCseg.mgz.\n",
      "[INFO: run_prediction.py:  762]: Running volume-based QC check on segmentation...\n",
      "Checking total volume ...\n",
      "Voxel size in mm3: 1.0\n",
      "Total segmentation volume in liter: 0.96\n",
      "Running FastSurfer for subject: OAS2_0036_MR1\n",
      "Setting ENV variable FASTSURFER_HOME to script directory /home/jovyan/FastSurfer. \n",
      "Change via environment to location of your choice if this is undesired (export FASTSURFER_HOME=/dir/to/FastSurfer)\n",
      "time command failing, not using time...\n",
      "=========================================================\n",
      "Start of the log for a new run_fastsurfer.sh invocation\n",
      "=========================================================\n",
      "Version: 2.4.2+7e53343\n",
      "Tue Aug  5 08:53:20 PM UTC 2025\n",
      "\n",
      "Log file for FastSurfer pipeline, run_fastsurfer.sh and segmentation(s)\n",
      "python3 /home/jovyan/FastSurfer/FastSurferCNN/run_prediction.py --t1 /home/jovyan/shared/data/OASIS-2/OAS2_RAW_PART1/OAS2_0036_MR1/RAW/mpr-1.nifti.img --asegdkt_segfile /home/jovyan/fastsurfer_outputs/OAS2_0036_MR1/mri/aparc.DKTatlas+aseg.deep.mgz --conformed_name /home/jovyan/fastsurfer_outputs/OAS2_0036_MR1/mri/orig.mgz --brainmask_name /home/jovyan/fastsurfer_outputs/OAS2_0036_MR1/mri/mask.mgz --aseg_name /home/jovyan/fastsurfer_outputs/OAS2_0036_MR1/mri/aseg.auto_noCCseg.mgz --sid OAS2_0036_MR1 --seg_log /home/jovyan/fastsurfer_outputs/OAS2_0036_MR1/scripts/deep-seg.log --vox_size min --batch_size 1 --viewagg_device auto --device auto --threads 1 --sd /home/jovyan/fastsurfer_outputs\n",
      "[INFO: run_prediction.py:  647]: Checking or downloading default checkpoints ...\n",
      "[INFO: common.py:  820]: Single subject with absolute file path for input.\n",
      "[INFO: common.py:  878]: Analyzing single subject /home/jovyan/shared/data/OASIS-2/OAS2_RAW_PART1/OAS2_0036_MR1/RAW/mpr-1.nifti.img\n",
      "[INFO: common.py:  979]: Output will be stored in Subjects Directory: /home/jovyan/fastsurfer_outputs\n",
      "[INFO: common.py:  106]: Using device: cpu\n",
      "[INFO: run_prediction.py:  245]: Running view aggregation on cpu\n",
      "[INFO: inference.py:  200]: Loading checkpoint /home/jovyan/FastSurfer/checkpoints/aparc_vinn_coronal_v2.0.0.pkl\n",
      "[INFO: inference.py:  200]: Loading checkpoint /home/jovyan/FastSurfer/checkpoints/aparc_vinn_sagittal_v2.0.0.pkl\n",
      "[INFO: inference.py:  200]: Loading checkpoint /home/jovyan/FastSurfer/checkpoints/aparc_vinn_axial_v2.0.0.pkl\n",
      "[INFO: run_prediction.py:  324]: Successfully loaded image from /home/jovyan/shared/data/OASIS-2/OAS2_RAW_PART1/OAS2_0036_MR1/RAW/mpr-1.nifti.img.\n",
      "[INFO: run_prediction.py:  441]: Output image directory /home/jovyan/fastsurfer_outputs/OAS2_0036_MR1/mri/orig does not exist. Creating it now...\n",
      "[INFO: conform.py:  823]: The input image is not conformed.\n",
      "[INFO: conform.py:  826]: A min-conformedconformed image must satisfy the following criteria:\n",
      "[INFO: conform.py:  828]:  - Number of Dimensions 3        : BUT image ndim 4\n",
      "[INFO: conform.py:  828]:  - Dimensions 256x256x256        : BUT image dimensions (256, 256, 128, 1)\n",
      "[INFO: conform.py:  828]:  - Voxel Size 1.0x1.0x1.0        : BUT image 1.0x1.0x1.25x0.0\n",
      "[INFO: conform.py:  828]:  - Orientation LIA               : BUT strict: [[ 0. 0. -1.25] [ 1. 0. 0. ] [ 0. 1. 0. ]]\n",
      "[INFO: conform.py:  828]:  - Dtype uint8                   : BUT dtype >f4\n",
      "[INFO: run_prediction.py:  337]: Conforming image\n",
      "Input:    min: 0.0  max: 4095.0\n",
      "rescale:  min: 0.0  max: 3624.074951171875  scale: 0.07036278317520547\n",
      "Output:   min: 0.0  max: 255.0\n",
      "[INFO: run_prediction.py:  454]: Successfully saved image   as /home/jovyan/fastsurfer_outputs/OAS2_0036_MR1/mri/orig.mgz.\n",
      "[INFO: run_prediction.py:  400]: Run coronal prediction\n",
      "[INFO: dataset.py:   78]: Loading Coronal with input voxelsize (1.0, 1.0)\n"
     ]
    },
    {
     "name": "stderr",
     "output_type": "stream",
     "text": [
      "100%|██████████| 256/256 [06:20<00:00,  1.48s/batch]\n",
      "  0%|          | 0/256 [00:00<?, ?batch/s]"
     ]
    },
    {
     "name": "stdout",
     "output_type": "stream",
     "text": [
      "[INFO: inference.py:  408]: Inference on 256 batches for coronal successful\n",
      "[INFO: inference.py:  469]: Coronal inference on /home/jovyan/shared/data/OASIS-2/OAS2_RAW_PART1/OAS2_0036_MR1/RAW/mpr-1.nifti.img finished in 380.0223 seconds\n",
      "[INFO: run_prediction.py:  400]: Run sagittal prediction\n",
      "[INFO: dataset.py:   69]: Loading Sagittal with input voxelsize (1.0, 1.0)\n"
     ]
    },
    {
     "name": "stderr",
     "output_type": "stream",
     "text": [
      "100%|██████████| 256/256 [06:40<00:00,  1.56s/batch]\n",
      "  0%|          | 0/256 [00:00<?, ?batch/s]"
     ]
    },
    {
     "name": "stdout",
     "output_type": "stream",
     "text": [
      "[INFO: inference.py:  408]: Inference on 256 batches for sagittal successful\n",
      "[INFO: inference.py:  469]: Sagittal inference on /home/jovyan/shared/data/OASIS-2/OAS2_RAW_PART1/OAS2_0036_MR1/RAW/mpr-1.nifti.img finished in 400.3105 seconds\n",
      "[INFO: run_prediction.py:  400]: Run axial prediction\n",
      "[INFO: dataset.py:   74]: Loading Axial with input voxelsize (1.0, 1.0)\n"
     ]
    },
    {
     "name": "stderr",
     "output_type": "stream",
     "text": [
      "100%|██████████| 256/256 [06:19<00:00,  1.48s/batch]\n"
     ]
    },
    {
     "name": "stdout",
     "output_type": "stream",
     "text": [
      "[INFO: inference.py:  408]: Inference on 256 batches for axial successful\n",
      "[INFO: inference.py:  469]: Axial inference on /home/jovyan/shared/data/OASIS-2/OAS2_RAW_PART1/OAS2_0036_MR1/RAW/mpr-1.nifti.img finished in 379.2532 seconds\n",
      "[INFO: run_prediction.py:  454]: Successfully saved image   as /home/jovyan/fastsurfer_outputs/OAS2_0036_MR1/mri/aparc.DKTatlas+aseg.deep.mgz.\n",
      "[INFO: run_prediction.py:  724]: Creating brainmask based on segmentation...\n",
      "Creating dilated mask ...\n",
      "Frontal region special treatment:  22067\n",
      "  Found 1 connected component(s)!\n",
      "[INFO: run_prediction.py:  454]: Successfully saved image   as /home/jovyan/fastsurfer_outputs/OAS2_0036_MR1/mri/mask.mgz.\n",
      "[INFO: run_prediction.py:  743]: Creating aseg based on segmentation...\n",
      "Reducing to aseg ...\n",
      "FlipWM: rh 0 and lh 0 flipped.\n",
      "[INFO: run_prediction.py:  454]: Successfully saved image   as /home/jovyan/fastsurfer_outputs/OAS2_0036_MR1/mri/aseg.auto_noCCseg.mgz.\n",
      "[INFO: run_prediction.py:  762]: Running volume-based QC check on segmentation...\n",
      "Checking total volume ...\n",
      "Voxel size in mm3: 1.0\n",
      "Total segmentation volume in liter: 1.05\n",
      "Running FastSurfer for subject: OAS2_0036_MR3\n",
      "Setting ENV variable FASTSURFER_HOME to script directory /home/jovyan/FastSurfer. \n",
      "Change via environment to location of your choice if this is undesired (export FASTSURFER_HOME=/dir/to/FastSurfer)\n",
      "time command failing, not using time...\n",
      "=========================================================\n",
      "Start of the log for a new run_fastsurfer.sh invocation\n",
      "=========================================================\n",
      "Version: 2.4.2+7e53343\n",
      "Tue Aug  5 09:13:09 PM UTC 2025\n",
      "\n",
      "Log file for FastSurfer pipeline, run_fastsurfer.sh and segmentation(s)\n",
      "python3 /home/jovyan/FastSurfer/FastSurferCNN/run_prediction.py --t1 /home/jovyan/shared/data/OASIS-2/OAS2_RAW_PART1/OAS2_0036_MR3/RAW/mpr-1.nifti.img --asegdkt_segfile /home/jovyan/fastsurfer_outputs/OAS2_0036_MR3/mri/aparc.DKTatlas+aseg.deep.mgz --conformed_name /home/jovyan/fastsurfer_outputs/OAS2_0036_MR3/mri/orig.mgz --brainmask_name /home/jovyan/fastsurfer_outputs/OAS2_0036_MR3/mri/mask.mgz --aseg_name /home/jovyan/fastsurfer_outputs/OAS2_0036_MR3/mri/aseg.auto_noCCseg.mgz --sid OAS2_0036_MR3 --seg_log /home/jovyan/fastsurfer_outputs/OAS2_0036_MR3/scripts/deep-seg.log --vox_size min --batch_size 1 --viewagg_device auto --device auto --threads 1 --sd /home/jovyan/fastsurfer_outputs\n",
      "[INFO: run_prediction.py:  647]: Checking or downloading default checkpoints ...\n",
      "[INFO: common.py:  820]: Single subject with absolute file path for input.\n",
      "[INFO: common.py:  878]: Analyzing single subject /home/jovyan/shared/data/OASIS-2/OAS2_RAW_PART1/OAS2_0036_MR3/RAW/mpr-1.nifti.img\n",
      "[INFO: common.py:  979]: Output will be stored in Subjects Directory: /home/jovyan/fastsurfer_outputs\n",
      "[INFO: common.py:  106]: Using device: cpu\n",
      "[INFO: run_prediction.py:  245]: Running view aggregation on cpu\n",
      "[INFO: inference.py:  200]: Loading checkpoint /home/jovyan/FastSurfer/checkpoints/aparc_vinn_coronal_v2.0.0.pkl\n",
      "[INFO: inference.py:  200]: Loading checkpoint /home/jovyan/FastSurfer/checkpoints/aparc_vinn_sagittal_v2.0.0.pkl\n",
      "[INFO: inference.py:  200]: Loading checkpoint /home/jovyan/FastSurfer/checkpoints/aparc_vinn_axial_v2.0.0.pkl\n",
      "[INFO: run_prediction.py:  324]: Successfully loaded image from /home/jovyan/shared/data/OASIS-2/OAS2_RAW_PART1/OAS2_0036_MR3/RAW/mpr-1.nifti.img.\n",
      "[INFO: run_prediction.py:  441]: Output image directory /home/jovyan/fastsurfer_outputs/OAS2_0036_MR3/mri/orig does not exist. Creating it now...\n",
      "[INFO: conform.py:  823]: The input image is not conformed.\n",
      "[INFO: conform.py:  826]: A min-conformedconformed image must satisfy the following criteria:\n",
      "[INFO: conform.py:  828]:  - Number of Dimensions 3        : BUT image ndim 4\n",
      "[INFO: conform.py:  828]:  - Dimensions 256x256x256        : BUT image dimensions (256, 256, 128, 1)\n",
      "[INFO: conform.py:  828]:  - Voxel Size 1.0x1.0x1.0        : BUT image 1.0x1.0x1.25x0.0\n",
      "[INFO: conform.py:  828]:  - Orientation LIA               : BUT strict: [[ 0. 0. -1.25] [ 1. 0. 0. ] [ 0. 1. 0. ]]\n",
      "[INFO: conform.py:  828]:  - Dtype uint8                   : BUT dtype >f4\n",
      "[INFO: run_prediction.py:  337]: Conforming image\n",
      "Input:    min: 0.0  max: 4095.0\n",
      "rescale:  min: 0.0  max: 3521.699951171875  scale: 0.0724082129470305\n",
      "Output:   min: 0.0  max: 255.0\n",
      "[INFO: run_prediction.py:  454]: Successfully saved image   as /home/jovyan/fastsurfer_outputs/OAS2_0036_MR3/mri/orig.mgz.\n",
      "[INFO: run_prediction.py:  400]: Run coronal prediction\n",
      "[INFO: dataset.py:   78]: Loading Coronal with input voxelsize (1.0, 1.0)\n"
     ]
    },
    {
     "name": "stderr",
     "output_type": "stream",
     "text": [
      "100%|██████████| 256/256 [06:23<00:00,  1.50s/batch]\n",
      "  0%|          | 0/256 [00:00<?, ?batch/s]"
     ]
    },
    {
     "name": "stdout",
     "output_type": "stream",
     "text": [
      "[INFO: inference.py:  408]: Inference on 256 batches for coronal successful\n",
      "[INFO: inference.py:  469]: Coronal inference on /home/jovyan/shared/data/OASIS-2/OAS2_RAW_PART1/OAS2_0036_MR3/RAW/mpr-1.nifti.img finished in 383.3017 seconds\n",
      "[INFO: run_prediction.py:  400]: Run sagittal prediction\n",
      "[INFO: dataset.py:   69]: Loading Sagittal with input voxelsize (1.0, 1.0)\n"
     ]
    },
    {
     "name": "stderr",
     "output_type": "stream",
     "text": [
      "100%|██████████| 256/256 [06:41<00:00,  1.57s/batch]\n",
      "  0%|          | 0/256 [00:00<?, ?batch/s]"
     ]
    },
    {
     "name": "stdout",
     "output_type": "stream",
     "text": [
      "[INFO: inference.py:  408]: Inference on 256 batches for sagittal successful\n",
      "[INFO: inference.py:  469]: Sagittal inference on /home/jovyan/shared/data/OASIS-2/OAS2_RAW_PART1/OAS2_0036_MR3/RAW/mpr-1.nifti.img finished in 401.4616 seconds\n",
      "[INFO: run_prediction.py:  400]: Run axial prediction\n",
      "[INFO: dataset.py:   74]: Loading Axial with input voxelsize (1.0, 1.0)\n"
     ]
    },
    {
     "name": "stderr",
     "output_type": "stream",
     "text": [
      "100%|██████████| 256/256 [06:13<00:00,  1.46s/batch]\n"
     ]
    },
    {
     "name": "stdout",
     "output_type": "stream",
     "text": [
      "[INFO: inference.py:  408]: Inference on 256 batches for axial successful\n",
      "[INFO: inference.py:  469]: Axial inference on /home/jovyan/shared/data/OASIS-2/OAS2_RAW_PART1/OAS2_0036_MR3/RAW/mpr-1.nifti.img finished in 373.1259 seconds\n",
      "[INFO: run_prediction.py:  454]: Successfully saved image   as /home/jovyan/fastsurfer_outputs/OAS2_0036_MR3/mri/aparc.DKTatlas+aseg.deep.mgz.\n",
      "[INFO: run_prediction.py:  724]: Creating brainmask based on segmentation...\n",
      "Creating dilated mask ...\n",
      "Frontal region special treatment:  21830\n",
      "  Found 1 connected component(s)!\n",
      "[INFO: run_prediction.py:  454]: Successfully saved image   as /home/jovyan/fastsurfer_outputs/OAS2_0036_MR3/mri/mask.mgz.\n",
      "[INFO: run_prediction.py:  743]: Creating aseg based on segmentation...\n",
      "Reducing to aseg ...\n",
      "FlipWM: rh 0 and lh 0 flipped.\n",
      "[INFO: run_prediction.py:  454]: Successfully saved image   as /home/jovyan/fastsurfer_outputs/OAS2_0036_MR3/mri/aseg.auto_noCCseg.mgz.\n",
      "[INFO: run_prediction.py:  762]: Running volume-based QC check on segmentation...\n",
      "Checking total volume ...\n",
      "Voxel size in mm3: 1.0\n",
      "Total segmentation volume in liter: 1.04\n",
      "Running FastSurfer for subject: OAS2_0037_MR1\n",
      "Setting ENV variable FASTSURFER_HOME to script directory /home/jovyan/FastSurfer. \n",
      "Change via environment to location of your choice if this is undesired (export FASTSURFER_HOME=/dir/to/FastSurfer)\n",
      "time command failing, not using time...\n",
      "=========================================================\n",
      "Start of the log for a new run_fastsurfer.sh invocation\n",
      "=========================================================\n",
      "Version: 2.4.2+7e53343\n",
      "Tue Aug  5 09:35:06 PM UTC 2025\n",
      "\n",
      "Log file for FastSurfer pipeline, run_fastsurfer.sh and segmentation(s)\n",
      "python3 /home/jovyan/FastSurfer/FastSurferCNN/run_prediction.py --t1 /home/jovyan/shared/data/OASIS-2/OAS2_RAW_PART1/OAS2_0037_MR1/RAW/mpr-1.nifti.img --asegdkt_segfile /home/jovyan/fastsurfer_outputs/OAS2_0037_MR1/mri/aparc.DKTatlas+aseg.deep.mgz --conformed_name /home/jovyan/fastsurfer_outputs/OAS2_0037_MR1/mri/orig.mgz --brainmask_name /home/jovyan/fastsurfer_outputs/OAS2_0037_MR1/mri/mask.mgz --aseg_name /home/jovyan/fastsurfer_outputs/OAS2_0037_MR1/mri/aseg.auto_noCCseg.mgz --sid OAS2_0037_MR1 --seg_log /home/jovyan/fastsurfer_outputs/OAS2_0037_MR1/scripts/deep-seg.log --vox_size min --batch_size 1 --viewagg_device auto --device auto --threads 1 --sd /home/jovyan/fastsurfer_outputs\n",
      "[INFO: run_prediction.py:  647]: Checking or downloading default checkpoints ...\n",
      "[INFO: common.py:  820]: Single subject with absolute file path for input.\n",
      "[INFO: common.py:  878]: Analyzing single subject /home/jovyan/shared/data/OASIS-2/OAS2_RAW_PART1/OAS2_0037_MR1/RAW/mpr-1.nifti.img\n",
      "[INFO: common.py:  979]: Output will be stored in Subjects Directory: /home/jovyan/fastsurfer_outputs\n",
      "[INFO: common.py:  106]: Using device: cpu\n",
      "[INFO: run_prediction.py:  245]: Running view aggregation on cpu\n",
      "[INFO: inference.py:  200]: Loading checkpoint /home/jovyan/FastSurfer/checkpoints/aparc_vinn_coronal_v2.0.0.pkl\n",
      "[INFO: inference.py:  200]: Loading checkpoint /home/jovyan/FastSurfer/checkpoints/aparc_vinn_sagittal_v2.0.0.pkl\n",
      "[INFO: inference.py:  200]: Loading checkpoint /home/jovyan/FastSurfer/checkpoints/aparc_vinn_axial_v2.0.0.pkl\n",
      "[INFO: run_prediction.py:  324]: Successfully loaded image from /home/jovyan/shared/data/OASIS-2/OAS2_RAW_PART1/OAS2_0037_MR1/RAW/mpr-1.nifti.img.\n",
      "[INFO: run_prediction.py:  441]: Output image directory /home/jovyan/fastsurfer_outputs/OAS2_0037_MR1/mri/orig does not exist. Creating it now...\n",
      "[INFO: conform.py:  823]: The input image is not conformed.\n",
      "[INFO: conform.py:  826]: A min-conformedconformed image must satisfy the following criteria:\n",
      "[INFO: conform.py:  828]:  - Number of Dimensions 3        : BUT image ndim 4\n",
      "[INFO: conform.py:  828]:  - Dimensions 256x256x256        : BUT image dimensions (256, 256, 128, 1)\n",
      "[INFO: conform.py:  828]:  - Voxel Size 1.0x1.0x1.0        : BUT image 1.0x1.0x1.25x0.0\n",
      "[INFO: conform.py:  828]:  - Orientation LIA               : BUT strict: [[ 0. 0. -1.25] [ 1. 0. 0. ] [ 0. 1. 0. ]]\n",
      "[INFO: conform.py:  828]:  - Dtype uint8                   : BUT dtype >f4\n",
      "[INFO: run_prediction.py:  337]: Conforming image\n",
      "Input:    min: 0.0  max: 4095.0\n",
      "rescale:  min: 0.0  max: 3366.090087890625  scale: 0.07575554823008224\n",
      "Output:   min: 0.0  max: 255.0\n",
      "[INFO: run_prediction.py:  454]: Successfully saved image   as /home/jovyan/fastsurfer_outputs/OAS2_0037_MR1/mri/orig.mgz.\n",
      "[INFO: run_prediction.py:  400]: Run coronal prediction\n",
      "[INFO: dataset.py:   78]: Loading Coronal with input voxelsize (1.0, 1.0)\n"
     ]
    },
    {
     "name": "stderr",
     "output_type": "stream",
     "text": [
      "100%|██████████| 256/256 [06:22<00:00,  1.49s/batch]\n",
      "  0%|          | 0/256 [00:00<?, ?batch/s]"
     ]
    },
    {
     "name": "stdout",
     "output_type": "stream",
     "text": [
      "[INFO: inference.py:  408]: Inference on 256 batches for coronal successful\n",
      "[INFO: inference.py:  469]: Coronal inference on /home/jovyan/shared/data/OASIS-2/OAS2_RAW_PART1/OAS2_0037_MR1/RAW/mpr-1.nifti.img finished in 382.2126 seconds\n",
      "[INFO: run_prediction.py:  400]: Run sagittal prediction\n",
      "[INFO: dataset.py:   69]: Loading Sagittal with input voxelsize (1.0, 1.0)\n"
     ]
    },
    {
     "name": "stderr",
     "output_type": "stream",
     "text": [
      "100%|██████████| 256/256 [06:43<00:00,  1.58s/batch]\n",
      "  0%|          | 0/256 [00:00<?, ?batch/s]"
     ]
    },
    {
     "name": "stdout",
     "output_type": "stream",
     "text": [
      "[INFO: inference.py:  408]: Inference on 256 batches for sagittal successful\n",
      "[INFO: inference.py:  469]: Sagittal inference on /home/jovyan/shared/data/OASIS-2/OAS2_RAW_PART1/OAS2_0037_MR1/RAW/mpr-1.nifti.img finished in 403.5146 seconds\n",
      "[INFO: run_prediction.py:  400]: Run axial prediction\n",
      "[INFO: dataset.py:   74]: Loading Axial with input voxelsize (1.0, 1.0)\n"
     ]
    },
    {
     "name": "stderr",
     "output_type": "stream",
     "text": [
      "100%|██████████| 256/256 [06:27<00:00,  1.51s/batch]\n"
     ]
    },
    {
     "name": "stdout",
     "output_type": "stream",
     "text": [
      "[INFO: inference.py:  408]: Inference on 256 batches for axial successful\n",
      "[INFO: inference.py:  469]: Axial inference on /home/jovyan/shared/data/OASIS-2/OAS2_RAW_PART1/OAS2_0037_MR1/RAW/mpr-1.nifti.img finished in 387.3618 seconds\n",
      "[INFO: run_prediction.py:  454]: Successfully saved image   as /home/jovyan/fastsurfer_outputs/OAS2_0037_MR1/mri/aparc.DKTatlas+aseg.deep.mgz.\n",
      "[INFO: run_prediction.py:  724]: Creating brainmask based on segmentation...\n",
      "Creating dilated mask ...\n",
      "Frontal region special treatment:  18046\n",
      "  Found 1 connected component(s)!\n",
      "[INFO: run_prediction.py:  454]: Successfully saved image   as /home/jovyan/fastsurfer_outputs/OAS2_0037_MR1/mri/mask.mgz.\n",
      "[INFO: run_prediction.py:  743]: Creating aseg based on segmentation...\n",
      "Reducing to aseg ...\n",
      "FlipWM: rh 0 and lh 0 flipped.\n",
      "[INFO: run_prediction.py:  454]: Successfully saved image   as /home/jovyan/fastsurfer_outputs/OAS2_0037_MR1/mri/aseg.auto_noCCseg.mgz.\n",
      "[INFO: run_prediction.py:  762]: Running volume-based QC check on segmentation...\n",
      "Checking total volume ...\n",
      "Voxel size in mm3: 1.0\n",
      "Total segmentation volume in liter: 1.06\n",
      "Running FastSurfer for subject: OAS2_0037_MR3\n",
      "Setting ENV variable FASTSURFER_HOME to script directory /home/jovyan/FastSurfer. \n",
      "Change via environment to location of your choice if this is undesired (export FASTSURFER_HOME=/dir/to/FastSurfer)\n",
      "time command failing, not using time...\n",
      "=========================================================\n",
      "Start of the log for a new run_fastsurfer.sh invocation\n",
      "=========================================================\n",
      "Version: 2.4.2+7e53343\n",
      "Tue Aug  5 09:55:10 PM UTC 2025\n",
      "\n",
      "Log file for FastSurfer pipeline, run_fastsurfer.sh and segmentation(s)\n",
      "python3 /home/jovyan/FastSurfer/FastSurferCNN/run_prediction.py --t1 /home/jovyan/shared/data/OASIS-2/OAS2_RAW_PART1/OAS2_0037_MR3/RAW/mpr-1.nifti.img --asegdkt_segfile /home/jovyan/fastsurfer_outputs/OAS2_0037_MR3/mri/aparc.DKTatlas+aseg.deep.mgz --conformed_name /home/jovyan/fastsurfer_outputs/OAS2_0037_MR3/mri/orig.mgz --brainmask_name /home/jovyan/fastsurfer_outputs/OAS2_0037_MR3/mri/mask.mgz --aseg_name /home/jovyan/fastsurfer_outputs/OAS2_0037_MR3/mri/aseg.auto_noCCseg.mgz --sid OAS2_0037_MR3 --seg_log /home/jovyan/fastsurfer_outputs/OAS2_0037_MR3/scripts/deep-seg.log --vox_size min --batch_size 1 --viewagg_device auto --device auto --threads 1 --sd /home/jovyan/fastsurfer_outputs\n",
      "[INFO: run_prediction.py:  647]: Checking or downloading default checkpoints ...\n",
      "[INFO: common.py:  820]: Single subject with absolute file path for input.\n",
      "[INFO: common.py:  878]: Analyzing single subject /home/jovyan/shared/data/OASIS-2/OAS2_RAW_PART1/OAS2_0037_MR3/RAW/mpr-1.nifti.img\n",
      "[INFO: common.py:  979]: Output will be stored in Subjects Directory: /home/jovyan/fastsurfer_outputs\n",
      "[INFO: common.py:  106]: Using device: cpu\n",
      "[INFO: run_prediction.py:  245]: Running view aggregation on cpu\n",
      "[INFO: inference.py:  200]: Loading checkpoint /home/jovyan/FastSurfer/checkpoints/aparc_vinn_coronal_v2.0.0.pkl\n",
      "[INFO: inference.py:  200]: Loading checkpoint /home/jovyan/FastSurfer/checkpoints/aparc_vinn_sagittal_v2.0.0.pkl\n",
      "[INFO: inference.py:  200]: Loading checkpoint /home/jovyan/FastSurfer/checkpoints/aparc_vinn_axial_v2.0.0.pkl\n",
      "[INFO: run_prediction.py:  324]: Successfully loaded image from /home/jovyan/shared/data/OASIS-2/OAS2_RAW_PART1/OAS2_0037_MR3/RAW/mpr-1.nifti.img.\n",
      "[INFO: run_prediction.py:  441]: Output image directory /home/jovyan/fastsurfer_outputs/OAS2_0037_MR3/mri/orig does not exist. Creating it now...\n",
      "[INFO: conform.py:  823]: The input image is not conformed.\n",
      "[INFO: conform.py:  826]: A min-conformedconformed image must satisfy the following criteria:\n",
      "[INFO: conform.py:  828]:  - Number of Dimensions 3        : BUT image ndim 4\n",
      "[INFO: conform.py:  828]:  - Dimensions 256x256x256        : BUT image dimensions (256, 256, 128, 1)\n",
      "[INFO: conform.py:  828]:  - Voxel Size 1.0x1.0x1.0        : BUT image 1.0x1.0x1.25x0.0\n",
      "[INFO: conform.py:  828]:  - Orientation LIA               : BUT strict: [[ 0. 0. -1.25] [ 1. 0. 0. ] [ 0. 1. 0. ]]\n",
      "[INFO: conform.py:  828]:  - Dtype uint8                   : BUT dtype >f4\n",
      "[INFO: run_prediction.py:  337]: Conforming image\n",
      "Input:    min: 0.0  max: 4095.0\n",
      "rescale:  min: 0.0  max: 3210.47998046875  scale: 0.07942737582894643\n",
      "Output:   min: 0.0  max: 255.0\n",
      "[INFO: run_prediction.py:  454]: Successfully saved image   as /home/jovyan/fastsurfer_outputs/OAS2_0037_MR3/mri/orig.mgz.\n",
      "[INFO: run_prediction.py:  400]: Run coronal prediction\n",
      "[INFO: dataset.py:   78]: Loading Coronal with input voxelsize (1.0, 1.0)\n"
     ]
    },
    {
     "name": "stderr",
     "output_type": "stream",
     "text": [
      "100%|██████████| 256/256 [06:32<00:00,  1.53s/batch]\n",
      "  0%|          | 0/256 [00:00<?, ?batch/s]"
     ]
    },
    {
     "name": "stdout",
     "output_type": "stream",
     "text": [
      "[INFO: inference.py:  408]: Inference on 256 batches for coronal successful\n",
      "[INFO: inference.py:  469]: Coronal inference on /home/jovyan/shared/data/OASIS-2/OAS2_RAW_PART1/OAS2_0037_MR3/RAW/mpr-1.nifti.img finished in 392.0780 seconds\n",
      "[INFO: run_prediction.py:  400]: Run sagittal prediction\n",
      "[INFO: dataset.py:   69]: Loading Sagittal with input voxelsize (1.0, 1.0)\n"
     ]
    },
    {
     "name": "stderr",
     "output_type": "stream",
     "text": [
      "100%|██████████| 256/256 [06:41<00:00,  1.57s/batch]\n",
      "  0%|          | 0/256 [00:00<?, ?batch/s]"
     ]
    },
    {
     "name": "stdout",
     "output_type": "stream",
     "text": [
      "[INFO: inference.py:  408]: Inference on 256 batches for sagittal successful\n",
      "[INFO: inference.py:  469]: Sagittal inference on /home/jovyan/shared/data/OASIS-2/OAS2_RAW_PART1/OAS2_0037_MR3/RAW/mpr-1.nifti.img finished in 401.6667 seconds\n",
      "[INFO: run_prediction.py:  400]: Run axial prediction\n",
      "[INFO: dataset.py:   74]: Loading Axial with input voxelsize (1.0, 1.0)\n"
     ]
    },
    {
     "name": "stderr",
     "output_type": "stream",
     "text": [
      "100%|██████████| 256/256 [06:31<00:00,  1.53s/batch]\n"
     ]
    },
    {
     "name": "stdout",
     "output_type": "stream",
     "text": [
      "[INFO: inference.py:  408]: Inference on 256 batches for axial successful\n",
      "[INFO: inference.py:  469]: Axial inference on /home/jovyan/shared/data/OASIS-2/OAS2_RAW_PART1/OAS2_0037_MR3/RAW/mpr-1.nifti.img finished in 391.7458 seconds\n",
      "[INFO: run_prediction.py:  454]: Successfully saved image   as /home/jovyan/fastsurfer_outputs/OAS2_0037_MR3/mri/aparc.DKTatlas+aseg.deep.mgz.\n",
      "[INFO: run_prediction.py:  724]: Creating brainmask based on segmentation...\n",
      "Creating dilated mask ...\n",
      "Frontal region special treatment:  18058\n",
      "  Found 1 connected component(s)!\n",
      "[INFO: run_prediction.py:  454]: Successfully saved image   as /home/jovyan/fastsurfer_outputs/OAS2_0037_MR3/mri/mask.mgz.\n",
      "[INFO: run_prediction.py:  743]: Creating aseg based on segmentation...\n",
      "Reducing to aseg ...\n",
      "FlipWM: rh 0 and lh 0 flipped.\n",
      "[INFO: run_prediction.py:  454]: Successfully saved image   as /home/jovyan/fastsurfer_outputs/OAS2_0037_MR3/mri/aseg.auto_noCCseg.mgz.\n",
      "[INFO: run_prediction.py:  762]: Running volume-based QC check on segmentation...\n",
      "Checking total volume ...\n",
      "Voxel size in mm3: 1.0\n",
      "Total segmentation volume in liter: 1.03\n"
     ]
    }
   ],
   "source": [
    "# Person 1 does the first 5 subjects, with start=0, and end=5\n",
    "# PLEASE update paths and start and end vals for your machine!\n",
    "process_subject_range(\n",
    "    setup_dir=\"/home/jovyan/FastSurfer\",\n",
    "    output_dir=\"/home/jovyan/fastsurfer_outputs\",\n",
    "    data_dir=\"/home/jovyan/shared/data/OASIS-2/OAS2_RAW_PART1\",\n",
    "    start=9,\n",
    "    end=13\n",
    ")\n"
   ]
  }
 ],
 "metadata": {
  "kernelspec": {
   "display_name": "Python 3 (ipykernel)",
   "language": "python",
   "name": "python3"
  },
  "language_info": {
   "codemirror_mode": {
    "name": "ipython",
    "version": 3
   },
   "file_extension": ".py",
   "mimetype": "text/x-python",
   "name": "python",
   "nbconvert_exporter": "python",
   "pygments_lexer": "ipython3",
   "version": "3.11.11"
  }
 },
 "nbformat": 4,
 "nbformat_minor": 5
}
